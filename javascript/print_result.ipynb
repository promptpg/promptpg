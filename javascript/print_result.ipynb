{
 "cells": [
  {
   "cell_type": "code",
   "execution_count": 3,
   "metadata": {},
   "outputs": [],
   "source": [
    "def print_result(result):\n",
    "    nums = result.split(\" \")\n",
    "    del nums[-2]\n",
    "    del nums[-2]\n",
    "    for num in nums:\n",
    "        print(f\"<td>{num}</td>\")"
   ]
  },
  {
   "cell_type": "code",
   "execution_count": 4,
   "metadata": {},
   "outputs": [
    {
     "name": "stdout",
     "output_type": "stream",
     "text": [
      "<td>6.71</td>\n",
      "<td>39.81</td>\n",
      "<td>8.37</td>\n",
      "<td>0.26</td>\n",
      "<td>30.80</td>\n",
      "<td>51.22</td>\n",
      "<td>26.67</td>\n",
      "<td>15.29</td>\n"
     ]
    }
   ],
   "source": [
    "# [1] Heuristic guess\n",
    "result = \"6.71 39.81 8.37 0.26 30.80 51.22 26.67 17.55 12.27 15.29\"\n",
    "print_result(result)"
   ]
  },
  {
   "cell_type": "code",
   "execution_count": 5,
   "metadata": {},
   "outputs": [
    {
     "name": "stdout",
     "output_type": "stream",
     "text": [
      "<td>84.61</td>\n",
      "<td>93.32</td>\n",
      "<td>84.95</td>\n",
      "<td>83.29</td>\n",
      "<td>97.18</td>\n",
      "<td>88.69</td>\n",
      "<td>96.20</td>\n",
      "<td>90.22</td>\n"
     ]
    }
   ],
   "source": [
    "# [2] Human\n",
    "result = \"84.61 93.32 84.95 83.29 97.18 88.69 96.20 94.27 81.28 90.22\"\n",
    "print_result(result)"
   ]
  },
  {
   "cell_type": "code",
   "execution_count": 6,
   "metadata": {},
   "outputs": [
    {
     "name": "stdout",
     "output_type": "stream",
     "text": [
      "<td>1.18</td>\n",
      "<td>43.62</td>\n",
      "<td>1.37</td>\n",
      "<td>0.43</td>\n",
      "<td>38.70</td>\n",
      "<td>49.78</td>\n",
      "<td>37.14</td>\n",
      "<td>12.18</td>\n"
     ]
    }
   ],
   "source": [
    "# [3] UnifiedQA_Small\n",
    "result = \"1.18 43.62 1.37 0.43 38.70 49.78 37.14 15.57 7.65 12.18\"\n",
    "print_result(result)"
   ]
  },
  {
   "cell_type": "code",
   "execution_count": 7,
   "metadata": {},
   "outputs": [
    {
     "name": "stdout",
     "output_type": "stream",
     "text": [
      "<td>4.60</td>\n",
      "<td>43.02</td>\n",
      "<td>5.28</td>\n",
      "<td>1.97</td>\n",
      "<td>37.08</td>\n",
      "<td>50.11</td>\n",
      "<td>38.10</td>\n",
      "<td>14.56</td>\n"
     ]
    }
   ],
   "source": [
    "# [4] UnifiedQA_Base\n",
    "result = \"4.60 43.02 5.28 1.97 37.08 50.11 38.10 17.14 11.11 14.56\"\n",
    "print_result(result)"
   ]
  },
  {
   "cell_type": "code",
   "execution_count": 8,
   "metadata": {},
   "outputs": [
    {
     "name": "stdout",
     "output_type": "stream",
     "text": [
      "<td>4.48</td>\n",
      "<td>48.80</td>\n",
      "<td>5.19</td>\n",
      "<td>1.72</td>\n",
      "<td>48.33</td>\n",
      "<td>50.33</td>\n",
      "<td>40.00</td>\n",
      "<td>15.96</td>\n"
     ]
    }
   ],
   "source": [
    "# [5] UnifiedQA_Large\n",
    "result = \"4.48 48.80 5.19 1.72 48.33 50.33 40.00 19.78 10.87 15.96\"\n",
    "print_result(result)"
   ]
  },
  {
   "cell_type": "code",
   "execution_count": 9,
   "metadata": {},
   "outputs": [
    {
     "name": "stdout",
     "output_type": "stream",
     "text": [
      "<td>7.32</td>\n",
      "<td>39.76</td>\n",
      "<td>8.68</td>\n",
      "<td>2.06</td>\n",
      "<td>35.06</td>\n",
      "<td>47.11</td>\n",
      "<td>20.95</td>\n",
      "<td>15.73</td>\n"
     ]
    }
   ],
   "source": [
    "# [6] TAPEX_Base\n",
    "result = \"7.32 39.76 8.68 2.06 35.06 47.11 20.95 18.67 11.81 15.73\"\n",
    "print_result(result)"
   ]
  },
  {
   "cell_type": "code",
   "execution_count": 10,
   "metadata": {},
   "outputs": [
    {
     "name": "stdout",
     "output_type": "stream",
     "text": [
      "<td>8.80</td>\n",
      "<td>46.59</td>\n",
      "<td>10.62</td>\n",
      "<td>1.72</td>\n",
      "<td>46.91</td>\n",
      "<td>48.11</td>\n",
      "<td>30.48</td>\n",
      "<td>18.59</td>\n"
     ]
    }
   ],
   "source": [
    "# [7] TAPEX_Large\n",
    "result = \"8.80 46.59 10.62 1.72 46.91 48.11 30.48 22.65 13.18 18.59\"\n",
    "print_result(result)"
   ]
  },
  {
   "cell_type": "code",
   "execution_count": 11,
   "metadata": {},
   "outputs": [
    {
     "name": "stdout",
     "output_type": "stream",
     "text": [
      "<td>22.27</td>\n",
      "<td>51.31</td>\n",
      "<td>27.27</td>\n",
      "<td>2.83</td>\n",
      "<td>52.28</td>\n",
      "<td>48.11</td>\n",
      "<td>69.52</td>\n",
      "<td>29.79</td>\n"
     ]
    }
   ],
   "source": [
    "# [8] UnifiedQA_Small\n",
    "result = \"22.27 51.31 27.27 2.83 52.28 48.11 69.52 35.85 21.71 29.79\"\n",
    "print_result(result)"
   ]
  },
  {
   "cell_type": "code",
   "execution_count": 12,
   "metadata": {},
   "outputs": [
    {
     "name": "stdout",
     "output_type": "stream",
     "text": [
      "<td>34.02</td>\n",
      "<td>70.68</td>\n",
      "<td>40.74</td>\n",
      "<td>7.90</td>\n",
      "<td>84.09</td>\n",
      "<td>55.67</td>\n",
      "<td>73.33</td>\n",
      "<td>43.52</td>\n"
     ]
    }
   ],
   "source": [
    "# [9] UnifiedQA_Base\n",
    "result = \"34.02 70.68 40.74 7.90 84.09 55.67 73.33 53.31 30.46 43.52\"\n",
    "print_result(result)"
   ]
  },
  {
   "cell_type": "code",
   "execution_count": 13,
   "metadata": {},
   "outputs": [
    {
     "name": "stdout",
     "output_type": "stream",
     "text": [
      "<td>48.67</td>\n",
      "<td>82.18</td>\n",
      "<td>55.97</td>\n",
      "<td>20.26</td>\n",
      "<td>94.63</td>\n",
      "<td>68.89</td>\n",
      "<td>79.05</td>\n",
      "<td>57.35</td>\n"
     ]
    }
   ],
   "source": [
    "# [10] UnifiedQA_Large\n",
    "result = \"48.67 82.18 55.97 20.26 94.63 68.89 79.05 65.92 45.92 57.35\"\n",
    "print_result(result)"
   ]
  },
  {
   "cell_type": "code",
   "execution_count": 14,
   "metadata": {},
   "outputs": [
    {
     "name": "stdout",
     "output_type": "stream",
     "text": [
      "<td>39.59</td>\n",
      "<td>73.09</td>\n",
      "<td>46.85</td>\n",
      "<td>11.33</td>\n",
      "<td>84.19</td>\n",
      "<td>61.33</td>\n",
      "<td>69.52</td>\n",
      "<td>48.27</td>\n"
     ]
    }
   ],
   "source": [
    "# [11] TAPEX_Base\n",
    "result = \"39.59 73.09 46.85 11.33 84.19 61.33 69.52 56.70 37.02 48.27\"\n",
    "print_result(result)"
   ]
  },
  {
   "cell_type": "code",
   "execution_count": 15,
   "metadata": {},
   "outputs": [
    {
     "name": "stdout",
     "output_type": "stream",
     "text": [
      "<td>51.00</td>\n",
      "<td>80.02</td>\n",
      "<td>59.92</td>\n",
      "<td>16.31</td>\n",
      "<td>95.34</td>\n",
      "<td>64.00</td>\n",
      "<td>73.33</td>\n",
      "<td>58.52</td>\n"
     ]
    }
   ],
   "source": [
    "# [12] TAPEX_Large\n",
    "result = \"51.00 80.02 59.92 16.31 95.34 64.00 73.33 67.11 47.07 58.52\"\n",
    "print_result(result)"
   ]
  },
  {
   "cell_type": "code",
   "execution_count": 16,
   "metadata": {},
   "outputs": [
    {
     "name": "stdout",
     "output_type": "stream",
     "text": [
      "<td>53.57</td>\n",
      "<td>66.67</td>\n",
      "<td>55.55</td>\n",
      "<td>45.84</td>\n",
      "<td>78.22</td>\n",
      "<td>55.44</td>\n",
      "<td>54.29</td>\n",
      "<td>56.96</td>\n"
     ]
    }
   ],
   "source": [
    "# [13] Zero-shot GPT-3\n",
    "result = \"53.57 66.67 55.55 45.84 78.22 55.44 54.29 63.37 48.41 56.96\"\n",
    "print_result(result)"
   ]
  },
  {
   "cell_type": "code",
   "execution_count": 17,
   "metadata": {},
   "outputs": [
    {
     "name": "stdout",
     "output_type": "stream",
     "text": [
      "<td>54.36</td>\n",
      "<td>66.92</td>\n",
      "<td>55.82</td>\n",
      "<td>48.67</td>\n",
      "<td>78.82</td>\n",
      "<td>55.67</td>\n",
      "<td>51.43</td>\n",
      "<td>57.61</td>\n"
     ]
    }
   ],
   "source": [
    "# [14] Zero-shot-CoT GPT-3\n",
    "result = \"54.36 66.92 55.82 48.67 78.82 55.67 51.43 63.62 49.59 57.61\"\n",
    "print_result(result)"
   ]
  },
  {
   "cell_type": "code",
   "execution_count": 18,
   "metadata": {},
   "outputs": [
    {
     "name": "stdout",
     "output_type": "stream",
     "text": [
      "<td>54.69</td>\n",
      "<td>64.11</td>\n",
      "<td>58.36</td>\n",
      "<td>40.40</td>\n",
      "<td>75.95</td>\n",
      "<td>52.41</td>\n",
      "<td>53.02</td>\n",
      "<td>57.13</td>\n"
     ]
    }
   ],
   "source": [
    "# [15] Few-shot GPT-3\n",
    "result = \"54.69 64.11 58.36 40.40 75.95 52.41 53.02 63.10 49.16 57.13\"\n",
    "print_result(result)"
   ]
  },
  {
   "cell_type": "code",
   "execution_count": 19,
   "metadata": {},
   "outputs": [
    {
     "name": "stdout",
     "output_type": "stream",
     "text": [
      "<td>60.76</td>\n",
      "<td>69.09</td>\n",
      "<td>60.04</td>\n",
      "<td>63.58</td>\n",
      "<td>76.49</td>\n",
      "<td>61.19</td>\n",
      "<td>67.30</td>\n",
      "<td>62.92</td>\n"
     ]
    }
   ],
   "source": [
    "# [16] Few-shot-CoT GPT-3\n",
    "result = \"60.76 69.09 60.04 63.58 76.49 61.19 67.30 68.62 55.31 62.92\"\n",
    "print_result(result)"
   ]
  },
  {
   "cell_type": "code",
   "execution_count": 20,
   "metadata": {},
   "outputs": [
    {
     "name": "stdout",
     "output_type": "stream",
     "text": [
      "<td>66.17</td>\n",
      "<td>74.11</td>\n",
      "<td>64.12</td>\n",
      "<td>74.16</td>\n",
      "<td>76.19</td>\n",
      "<td>72.81</td>\n",
      "<td>65.71</td>\n",
      "<td>68.23</td>\n"
     ]
    }
   ],
   "source": [
    "# [17] Few-shot-CoT GPT-3 + PromptPG\n",
    "result = \"66.17 74.11 64.12 74.16 76.19 72.81 65.71 71.20 64.27 68.23\"\n",
    "print_result(result)"
   ]
  }
 ],
 "metadata": {
  "kernelspec": {
   "display_name": "Python 3.9.1rc1 64-bit",
   "language": "python",
   "name": "python3"
  },
  "language_info": {
   "codemirror_mode": {
    "name": "ipython",
    "version": 3
   },
   "file_extension": ".py",
   "mimetype": "text/x-python",
   "name": "python",
   "nbconvert_exporter": "python",
   "pygments_lexer": "ipython3",
   "version": "3.9.1rc1"
  },
  "orig_nbformat": 4,
  "vscode": {
   "interpreter": {
    "hash": "aee8b7b246df8f9039afb4144a1f6fd8d2ca17a180786b69acc140d282b71a49"
   }
  }
 },
 "nbformat": 4,
 "nbformat_minor": 2
}
